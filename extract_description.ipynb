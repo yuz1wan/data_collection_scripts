{
 "cells": [
  {
   "cell_type": "markdown",
   "metadata": {},
   "source": [
    "# ALOHA\n",
    "description存在每个子任务文件夹的meta文件夹的tasks.jsonl文件中\n",
    "文件中存储了一个字典，task_index是任务的索引，task是任务的描述"
   ]
  },
  {
   "cell_type": "code",
   "execution_count": null,
   "metadata": {},
   "outputs": [
    {
     "name": "stdout",
     "output_type": "stream",
     "text": [
      "Task descriptions: Open the top cabinet, store the pot inside it then close the cabinet.\n"
     ]
    }
   ],
   "source": [
    "aloha_root = \"/DATA/aloha_lerobot\"\n",
    "import sys\n",
    "sys.path.append(aloha_root)\n",
    "import os\n",
    "import json\n",
    "\n",
    "for task_dir in os.listdir(aloha_root):\n",
    "    if not os.path.isdir(os.path.join(aloha_root, task_dir)):\n",
    "        print(f\"Skipping {task_dir}, not a directory\")\n",
    "        continue\n",
    "    json_path = os.path.join(aloha_root, task_dir, \"meta\", \"tasks.jsonl\")\n",
    "    if not os.path.exists(json_path):\n",
    "        print(f\"Skipping {task_dir}, no tasks.jsonl\")\n",
    "        continue\n",
    "\n",
    "    tasks_dict = json.load(open(json_path))\n",
    "    task_descriptions = tasks_dict[\"task\"]\n",
    "    # print(f\"Task descriptions: {task_descriptions}\")\n",
    "    # break\n",
    "\n"
   ]
  }
 ],
 "metadata": {
  "kernelspec": {
   "display_name": "rdt",
   "language": "python",
   "name": "python3"
  },
  "language_info": {
   "codemirror_mode": {
    "name": "ipython",
    "version": 3
   },
   "file_extension": ".py",
   "mimetype": "text/x-python",
   "name": "python",
   "nbconvert_exporter": "python",
   "pygments_lexer": "ipython3",
   "version": "3.10.0"
  }
 },
 "nbformat": 4,
 "nbformat_minor": 2
}
